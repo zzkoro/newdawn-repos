{
 "cells": [
  {
   "cell_type": "markdown",
   "metadata": {},
   "source": [
    "### 1. 환경 설정"
   ]
  },
  {
   "cell_type": "code",
   "execution_count": 3,
   "metadata": {},
   "outputs": [],
   "source": [
    "#uv init -p 3.12.10\n",
    "#uv add python-dotenv\n",
    "#uv add langchain\n",
    "#uv add langchain-ollama\n",
    "#uv add langchain-qdrant\n",
    "#uv add langchain-community\n",
    "#uv add pypdf"
   ]
  },
  {
   "cell_type": "code",
   "execution_count": null,
   "metadata": {},
   "outputs": [],
   "source": [
    "from dotenv import load_dotenv\n",
    "load_dotenv(override=True)\n"
   ]
  },
  {
   "cell_type": "code",
   "execution_count": 18,
   "metadata": {},
   "outputs": [],
   "source": [
    "from langchain_community.document_loaders import PyPDFLoader\n",
    "from langchain_text_splitters import RecursiveCharacterTextSplitter\n",
    "from langchain_ollama import ChatOllama, OllamaEmbeddings\n",
    "from langchain_core.output_parsers import StrOutputParser\n",
    "from langchain_core.runnables import RunnablePassthrough"
   ]
  },
  {
   "cell_type": "markdown",
   "metadata": {},
   "source": [
    "### 2. Document Loader\n",
    "- PyPDF로 문서에서 텍스트 추출"
   ]
  },
  {
   "cell_type": "code",
   "execution_count": null,
   "metadata": {},
   "outputs": [],
   "source": [
    "loader = PyPDFLoader(file_path=\"data/arxiv_paper.pdf\")\n",
    "docs = loader.load()\n",
    "len(docs)"
   ]
  },
  {
   "cell_type": "code",
   "execution_count": null,
   "metadata": {},
   "outputs": [],
   "source": [
    "for doc in docs:\n",
    "    print(doc.page_content[:500])\n",
    "    print(doc.metadata)\n",
    "    print(\"-\"*100)"
   ]
  },
  {
   "cell_type": "markdown",
   "metadata": {},
   "source": [
    "### 3. Text Splitter\n",
    "-  RecursiveCharacterTextSplitter 사용"
   ]
  },
  {
   "cell_type": "code",
   "execution_count": null,
   "metadata": {},
   "outputs": [],
   "source": [
    "text_splitter = RecursiveCharacterTextSplitter(chunk_size=1000, chunk_overlap=200)\n",
    "splits = text_splitter.split_documents(docs)\n",
    "\n",
    "print(splits[0].page_content)"
   ]
  },
  {
   "cell_type": "code",
   "execution_count": null,
   "metadata": {},
   "outputs": [],
   "source": [
    "[len(chunk.page_content) for chunk in splits]"
   ]
  },
  {
   "cell_type": "markdown",
   "metadata": {},
   "source": [
    "### 4. Embedding and Vector Store\n",
    "- 텍스트를 벡터로 변환\n",
    "- Qdrant Vector Store에 저장"
   ]
  },
  {
   "cell_type": "code",
   "execution_count": null,
   "metadata": {},
   "outputs": [],
   "source": [
    "embeddings = OllamaEmbeddings(model=\"bge-m3\") # 벡터 모델 선택 (bge-m3)\n",
    "embeddings"
   ]
  },
  {
   "cell_type": "code",
   "execution_count": null,
   "metadata": {},
   "outputs": [],
   "source": [
    "from langchain_qdrant import QdrantVectorStore, RetrievalMode\n",
    "from qdrant_client import QdrantClient\n",
    "from qdrant_client.http.models import VectorParams, Distance\n",
    "from uuid import uuid4\n",
    "\n",
    "# Qdrant 클라이언트 생성 (메모리형)\n",
    "client = QdrantClient(\":memory:\")\n",
    "\n",
    "# 컬렉션 생성\n",
    "client.create_collection(\n",
    "    collection_name=\"rag_collection\",\n",
    "    vectors_config=VectorParams(size=1024, distance=Distance.COSINE), # 벡터 크기(임베딩 모델에 따라 틀림)와 거리 측정 방식(코사인 거리)\n",
    ")\n",
    "\n",
    "# Vector Store 생성\n",
    "vectorstore = QdrantVectorStore(\n",
    "    client=client,\n",
    "    collection_name=\"rag_collection\",\n",
    "    embedding=embeddings,\n",
    "    retrieval_mode=RetrievalMode.DENSE, # 데이터 검색 방식 (DENSE-기본, SPARSE, HYBRID) \n",
    ")\n",
    "\n",
    "uuids = [str(uuid4()) for _ in range(len(splits))]\n",
    "\n",
    "# 데이터 저장\n",
    "vectorstore.add_documents(\n",
    "    documents=splits,\n",
    "    ids=uuids,\n",
    ")"
   ]
  },
  {
   "cell_type": "markdown",
   "metadata": {},
   "source": [
    "### 5. Retrieval\n",
    "- 데이터 검색"
   ]
  },
  {
   "cell_type": "code",
   "execution_count": null,
   "metadata": {},
   "outputs": [],
   "source": [
    "retriever = vectorstore.as_retriever()\n",
    "\n",
    "search_result = retriever.invoke(\"Embodied Agent가 뭐야?\", k=5)\n",
    "\n",
    "for doc in search_result:\n",
    "    print(doc.page_content[:500])\n",
    "    print(doc.metadata)\n",
    "    print(\"-\"*100)"
   ]
  },
  {
   "cell_type": "code",
   "execution_count": 14,
   "metadata": {},
   "outputs": [],
   "source": [
    "# RAG Prompt Template 설정\n",
    "from langchain.prompts import ChatPromptTemplate\n",
    "\n",
    "prompt = ChatPromptTemplate.from_template(\"\"\"\n",
    "당신은 Q&A 전문 AI 어시스턴트입니다. 주어진 컨텍스트를 사용하여 질문에 답변해주세요.\n",
    "\n",
    "컨텍스트:\n",
    "{context}\n",
    "\n",
    "질문:\n",
    "{question}\n",
    "\n",
    "답변:\n",
    " \"\"\")"
   ]
  },
  {
   "cell_type": "code",
   "execution_count": null,
   "metadata": {},
   "outputs": [],
   "source": [
    "# 단순 답변 Streaming\n",
    "\n",
    "from IPython.display import Markdown\n",
    "from langchain_core.runnables import RunnableParallel\n",
    "\n",
    "llm = ChatOllama(model=\"gemma3:4b\", temperature=0)\n",
    "\n",
    "def format_docs(docs):\n",
    "    return \"\\n\\n\".join(doc.page_content for doc in docs)\n",
    "\n",
    "rag_chain = (\n",
    "    {\"context\": retriever | format_docs, \"question\": RunnablePassthrough()}\n",
    "    | prompt\n",
    "    | llm\n",
    "    | StrOutputParser()\n",
    ")\n",
    "\n",
    "for chunk in rag_chain.stream(\"Embodied Agent가 뭐야?\"):\n",
    "    print(chunk, end=\"\", flush=True)"
   ]
  },
  {
   "cell_type": "code",
   "execution_count": null,
   "metadata": {},
   "outputs": [],
   "source": [
    "# 참고한 소스를 함께 스트리밍\n",
    "\n",
    "rag_chain_from_docs = (\n",
    "    # 입력 데이터에서 context 필드를 추출하여 format_docs 함수로 처리\n",
    "    RunnablePassthrough.assign(context=(lambda x: format_docs(x[\"context\"])))\n",
    "    # 포맷된 컨텍스트와 질문을 프롬프트에 전달\n",
    "    | prompt\n",
    "    # 프롬프트의 출력을 LLM에 전달\n",
    "    | llm\n",
    "    # 출력을 문자열로 파싱\n",
    "    | StrOutputParser()\n",
    ")\n",
    "\n",
    "# 검색 결과와 질문을 병렬로 처리하고 답변을 생성하는 최종 체인\n",
    "rag_chain_with_source = RunnableParallel(\n",
    "    # 검색기(retriever)로 문서를 가져오고, 질문을 그대로 전달\n",
    "    {\"context\": retriever, \"question\": RunnablePassthrough()},\n",
    "# 위에서 생성된 context와 question을 rag_chain_from_docs에 전달하여 answer 필드 추가   \n",
    ").assign(answer=rag_chain_from_docs)\n",
    "\n",
    "for chunk in rag_chain_with_source.stream(\"Embodied Agent가 뭐야?\"):\n",
    "    if \"context\" in chunk:\n",
    "        print(\"Retrieved Documents:\")\n",
    "        for i, doc in enumerate(chunk[\"context\"]):\n",
    "            print(f\"소스 [{i+1}]: <{doc.metadata['title']}>\")\n",
    "            print(f\"참고내용: {doc.page_content[:100]}...\\n\")\n",
    "        print(\"-\"*80)\n",
    "    elif \"answer\" in chunk:\n",
    "        print(chunk[\"answer\"], end=\"\", flush=True)"
   ]
  },
  {
   "cell_type": "code",
   "execution_count": null,
   "metadata": {},
   "outputs": [],
   "source": []
  }
 ],
 "metadata": {
  "kernelspec": {
   "display_name": ".venv",
   "language": "python",
   "name": "python3"
  },
  "language_info": {
   "codemirror_mode": {
    "name": "ipython",
    "version": 3
   },
   "file_extension": ".py",
   "mimetype": "text/x-python",
   "name": "python",
   "nbconvert_exporter": "python",
   "pygments_lexer": "ipython3",
   "version": "3.12.10"
  }
 },
 "nbformat": 4,
 "nbformat_minor": 2
}
