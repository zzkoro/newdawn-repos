{
 "cells": [
  {
   "cell_type": "markdown",
   "metadata": {},
   "source": [
    "## 1. Tools\n",
    "-  LangChain 노트 CH16 참고"
   ]
  },
  {
   "cell_type": "markdown",
   "metadata": {},
   "source": [
    "### 1) 필요한 라이브러리 설치하기"
   ]
  },
  {
   "cell_type": "code",
   "execution_count": null,
   "metadata": {},
   "outputs": [],
   "source": [
    "#!uv add langchain langchain-openai dotenv"
   ]
  },
  {
   "cell_type": "markdown",
   "metadata": {},
   "source": [
    "### 2) 환경변수 읽어오기"
   ]
  },
  {
   "cell_type": "code",
   "execution_count": 3,
   "metadata": {},
   "outputs": [
    {
     "data": {
      "text/plain": [
       "True"
      ]
     },
     "execution_count": 3,
     "metadata": {},
     "output_type": "execute_result"
    }
   ],
   "source": [
    "import dotenv\n",
    "dotenv.load_dotenv(override=True)"
   ]
  },
  {
   "cell_type": "markdown",
   "metadata": {},
   "source": [
    "### 3) Built-In 도구: TavilySearchResults"
   ]
  },
  {
   "cell_type": "code",
   "execution_count": 4,
   "metadata": {},
   "outputs": [
    {
     "name": "stdout",
     "output_type": "stream",
     "text": [
      "[{'title': '[2024년 UPDATE] OpenAI Python API 튜토리얼 - 채팅(chat) ...', 'url': 'https://teddylee777.github.io/openai/openai-api-tutorial-01/', 'content': '대한민국의 수도는 서울입니다. # 첫 번째 질문 ask(\"대한민국의 수도는 어디인가요?\") \\'대한민국의 수도는 서울입니다. \\'', 'score': 0.90907925}, {'title': '10. GPT4ALL - <랭체인LangChain 노트>', 'url': 'https://wikidocs.net/233806', 'content': '대한민국(South Korea)의 수도는 서울입니다. 서울은 약 1000만 명의 인구를 가진 대도시로, 한반도 북부에 위치해 있습니다. 세계에서 가장 큰 도시 중 하나로 간주되며', 'score': 0.902481}, {'title': '[논문리뷰]RAG: Retrieval-Augmented Generation for ...', 'url': 'https://meaningful96.github.io/nr/rag/', 'content': 'Wikidata에 검색된 passage: 대한민국의 수도는 서울특별시이며 한강이 도시를 관통한다. 이처럼 질문과 검색된 외부데이터(passage)어디에도 거짓', 'score': 0.8939131}, {'title': '04. OpenAI API 사용(GPT-4o 멀티모달)', 'url': 'https://wikidocs.net/233343', 'content': \"'대한민국의 수도는 서울입니다. 서울은 대한민국의 정치, 경제, 문화의 중심지로서 많은 인구와 다양한 명소를 자랑하는 도시입니다.' Copy response\", 'score': 0.88372874}, {'title': '02. 퓨샷 프롬프트(FewShotPromptTemplate) - <랭체인 ...', 'url': 'https://wikidocs.net/233348', 'content': '대한민국의 수도는 서울입니다. 이 질문에 추가 질문이 필요한가요: 예. 추가 질문: Google은 언제 창립되었나요?', 'score': 0.8351749}, {'title': '06. LCEL 인터페이스 - <랭체인LangChain 노트>', 'url': 'https://wikidocs.net/233345', 'content': \"[{'capital': '대한민국의 수도는 서울이다.', 'area': '대한민국의 면적은 약 100,363km² 입니다.'}, {'capital': '미국의 수도는 워싱턴 D.C.입니다.', 'area\", 'score': 0.82220376}]\n"
     ]
    }
   ],
   "source": [
    "from langchain_community.tools.tavily_search import TavilySearchResults\n",
    "\n",
    "# 도구 생성\n",
    "tool = TavilySearchResults(\n",
    "    max_results=6,\n",
    "    include_answer=True,\n",
    "    include_raw_content=True,\n",
    "    include_domains=[\"github.io\", \"wikidocs.net\"]\n",
    ")\n",
    "\n",
    "# 도구 사용\n",
    "result = tool.invoke(\"대한민국의 수도는 어디인가요?\")\n",
    "\n",
    "print(result)"
   ]
  },
  {
   "cell_type": "markdown",
   "metadata": {},
   "source": [
    "### 4) 사용자 정의 도구 (Custom Tool)\n",
    "- @tool 데코레이터 이용하기"
   ]
  },
  {
   "cell_type": "code",
   "execution_count": 5,
   "metadata": {},
   "outputs": [],
   "source": [
    "from langchain.tools import tool\n",
    "\n",
    "# 데코레이터를 사용하여 함수를 도구로 변환\n",
    "@tool \n",
    "def add_numbers(a: int, b: int) -> int:\n",
    "    \"\"\"두 개의 숫자를 더합니다.\"\"\"\n",
    "    return a + b\n",
    "\n",
    "@tool\n",
    "def multiply_numbers(a: int, b: int) -> int:\n",
    "    \"\"\"두 개의 숫자를 곱합니다.\"\"\"\n",
    "    return a * b\n"
   ]
  },
  {
   "cell_type": "code",
   "execution_count": 7,
   "metadata": {},
   "outputs": [
    {
     "name": "stdout",
     "output_type": "stream",
     "text": [
      "3\n",
      "12\n"
     ]
    }
   ],
   "source": [
    "# 도구 사용\n",
    "result = add_numbers.invoke({\"a\": 1, \"b\": 2})\n",
    "\n",
    "print(result)\n",
    "\n",
    "result = multiply_numbers.invoke({\"a\": 3, \"b\": 4})\n",
    "print(result)"
   ]
  },
  {
   "cell_type": "markdown",
   "metadata": {},
   "source": [
    "## 2. Binding Tools"
   ]
  },
  {
   "cell_type": "markdown",
   "metadata": {},
   "source": [
    "### 1) LLM에 바인딩할 Tool정의\n",
    "- 도구를 정의할 때 @tool 데코레이터를 사용하여 도구를 정의합니다\n",
    "- docstring 은 가급적 영어로 작성하는 것을 권장합니다."
   ]
  },
  {
   "cell_type": "code",
   "execution_count": null,
   "metadata": {},
   "outputs": [],
   "source": [
    "#!uv add beautifulsoup4"
   ]
  },
  {
   "cell_type": "code",
   "execution_count": 9,
   "metadata": {},
   "outputs": [],
   "source": [
    "import re\n",
    "import requests\n",
    "from bs4 import BeautifulSoup\n",
    "from langchain.agents import tool\n",
    "\n",
    "@tool\n",
    "def get_word_length(word: str) -> int:\n",
    "    \"\"\"Returns the length of a word.\"\"\"\n",
    "    return len(word)\n",
    "\n",
    "@tool\n",
    "def add_function(a: float, b: float) -> float:\n",
    "    \"\"\"Add two numbers together.\"\"\"\n",
    "    return a + b\n",
    "\n",
    "@tool\n",
    "def naver_news_crawl(news_url: str) -> str:\n",
    "    \"\"\"Crawl the naver news from the given URL and return the content.\"\"\"\n",
    "    response = requests.get(news_url)\n",
    "    \n",
    "    if response.status_code == 200:\n",
    "        soup = BeautifulSoup(response.text, \"html.parser\")\n",
    "        \n",
    "        title = soup.find(\"h2\", id=\"title_area\").get_text()\n",
    "        content = soup.find(\"div\", id=\"content\").get_text()\n",
    "        cleaned_title = re.sub(r\"\\n{2,}\", \"\\n\", title)\n",
    "        cleaned_content = re.sub(r\"\\n{2,}\", \"\\n\", content)\n",
    "        \n",
    "        return cleaned_title + \"\\n\" + cleaned_content\n",
    "    else:\n",
    "        return f\"Failed to crawl the news from the given URL: {news_url}\"\n",
    "    \n",
    "tools = [get_word_length, add_function, naver_news_crawl]"
   ]
  },
  {
   "cell_type": "markdown",
   "metadata": {},
   "source": [
    "### 2) bind_tool()로 LLM에 도구 바인딩"
   ]
  },
  {
   "cell_type": "code",
   "execution_count": 13,
   "metadata": {},
   "outputs": [
    {
     "data": {
      "text/plain": [
       "AIMessage(content='', additional_kwargs={'tool_calls': [{'id': 'call_ePntMYt60NSpDdCnaBOitmFX', 'function': {'arguments': '{\"word\":\"대한민국\"}', 'name': 'get_word_length'}, 'type': 'function'}], 'refusal': None}, response_metadata={'token_usage': {'completion_tokens': 17, 'prompt_tokens': 110, 'total_tokens': 127, 'completion_tokens_details': {'accepted_prediction_tokens': 0, 'audio_tokens': 0, 'reasoning_tokens': 0, 'rejected_prediction_tokens': 0}, 'prompt_tokens_details': {'audio_tokens': 0, 'cached_tokens': 0}}, 'model_name': 'gpt-4o-mini-2024-07-18', 'system_fingerprint': 'fp_129a36352a', 'id': 'chatcmpl-BRxICbzGTIPcoEmy3zOI6GQPR9YSi', 'finish_reason': 'tool_calls', 'logprobs': None}, id='run-db32e33c-8ca4-4647-82fb-b54dbdd562c6-0', tool_calls=[{'name': 'get_word_length', 'args': {'word': '대한민국'}, 'id': 'call_ePntMYt60NSpDdCnaBOitmFX', 'type': 'tool_call'}], usage_metadata={'input_tokens': 110, 'output_tokens': 17, 'total_tokens': 127, 'input_token_details': {'audio': 0, 'cache_read': 0}, 'output_token_details': {'audio': 0, 'reasoning': 0}})"
      ]
     },
     "execution_count": 13,
     "metadata": {},
     "output_type": "execute_result"
    }
   ],
   "source": [
    "from langchain_openai import ChatOpenAI\n",
    "\n",
    "llm = ChatOpenAI(model=\"gpt-4o-mini\", temperature=0)\n",
    "\n",
    "llm_with_tools = llm.bind_tools(tools)\n",
    "\n",
    "llm_with_tools.invoke(\"대한민국 단어 길이는 어떻게 되나요?\")"
   ]
  },
  {
   "cell_type": "code",
   "execution_count": 15,
   "metadata": {},
   "outputs": [
    {
     "data": {
      "text/plain": [
       "[{'args': {'word': '대한민국'}, 'type': 'get_word_length'}]"
      ]
     },
     "execution_count": 15,
     "metadata": {},
     "output_type": "execute_result"
    }
   ],
   "source": [
    "from langchain_core.output_parsers.openai_tools import JsonOutputToolsParser\n",
    "\n",
    "chain = llm_with_tools | JsonOutputToolsParser(tools=tools)\n",
    "\n",
    "tool_call_results = chain.invoke(\"대한민국 단어 길이는 어떻게 되나요?\")\n",
    "\n",
    "tool_call_results\n"
   ]
  },
  {
   "cell_type": "code",
   "execution_count": 17,
   "metadata": {},
   "outputs": [
    {
     "name": "stdout",
     "output_type": "stream",
     "text": [
      "Tool get_word_length called with args: {'word': '대한민국'}\n",
      "Tool get_word_length returned: 4\n"
     ]
    }
   ],
   "source": [
    "# tool을 찾아 args를 전달하여 도구 실행하는 함수\n",
    "def execute_tool(tool_call_results):\n",
    "    for tool_call_result in tool_call_results:\n",
    "        # 도구의 이름과 인자를 추출\n",
    "        tool_name = tool_call_result[\"type\"]\n",
    "        tool_args = tool_call_result[\"args\"]\n",
    "        \n",
    "        matching_tool = next((tool for tool in tools if tool.name == tool_name), None)\n",
    "        \n",
    "        if matching_tool:\n",
    "            # 도구 실행\n",
    "            tool_result = matching_tool.invoke(tool_args)\n",
    "            print(f\"Tool {tool_name} called with args: {tool_args}\")\n",
    "            print(f\"Tool {tool_name} returned: {tool_result}\")\n",
    "        else:\n",
    "            print(f\"Tool {tool_name} not found\")\n",
    "        \n",
    "        \n",
    "execute_tool(tool_call_results)"
   ]
  },
  {
   "cell_type": "code",
   "execution_count": 18,
   "metadata": {},
   "outputs": [
    {
     "name": "stdout",
     "output_type": "stream",
     "text": [
      "Tool get_word_length called with args: {'word': '대한민국'}\n",
      "Tool get_word_length returned: 4\n"
     ]
    }
   ],
   "source": [
    "chain = llm_with_tools | JsonOutputToolsParser(tools=tools) | execute_tool\n",
    "\n",
    "chain.invoke(\"대한민국 단어 길이는 어떻게 되나요?\")\n",
    "\n"
   ]
  },
  {
   "cell_type": "markdown",
   "metadata": {},
   "source": [
    "### 3) Agent에 도구 바인딩\n",
    "- agent_scratchpad : 에이전트가 임시로 저장하는 변수\n",
    "- AgentExecutor: 실제로 llm 호출, 올바른 도구로 라우팅, 실행, 모델 재호출 등을 위한 실행 루프를 생성"
   ]
  },
  {
   "cell_type": "code",
   "execution_count": 20,
   "metadata": {},
   "outputs": [
    {
     "name": "stdout",
     "output_type": "stream",
     "text": [
      "\n",
      "\n",
      "\u001b[1m> Entering new AgentExecutor chain...\u001b[0m\n",
      "\u001b[32;1m\u001b[1;3m\n",
      "Invoking: `get_word_length` with `{'word': '대한민국'}`\n",
      "\n",
      "\n",
      "\u001b[0m\u001b[36;1m\u001b[1;3m4\u001b[0m\u001b[32;1m\u001b[1;3m\"대한민국\"이라는 단어의 길이는 4자입니다.\u001b[0m\n",
      "\n",
      "\u001b[1m> Finished chain.\u001b[0m\n",
      "{'input': '대한민국 단어 길이는 어떻게 되나요?', 'output': '\"대한민국\"이라는 단어의 길이는 4자입니다.'}\n"
     ]
    }
   ],
   "source": [
    "from langchain_core.prompts import ChatPromptTemplate, MessagesPlaceholder\n",
    "from langchain_openai import ChatOpenAI\n",
    "from langchain.agents import AgentExecutor, create_tool_calling_agent\n",
    "\n",
    "# Agent 프롬프트 생성\n",
    "prompt = ChatPromptTemplate.from_messages([\n",
    "    (\"system\", \"You are a helpful assistant that can use tools to answer questions.\"),\n",
    "    (\"user\", \"{input}\"),\n",
    "    MessagesPlaceholder(variable_name=\"agent_scratchpad\")\n",
    "])\n",
    "\n",
    "# 모델 생성\n",
    "llm = ChatOpenAI(model=\"gpt-4o-mini\", temperature=0)\n",
    "\n",
    "# Agent 생성\n",
    "agent = create_tool_calling_agent(llm, tools, prompt)\n",
    "\n",
    "# AgentExecutor 생성\n",
    "agent_executor = AgentExecutor(\n",
    "    agent=agent, \n",
    "    tools=tools, \n",
    "    verbose=True,\n",
    "    max_iterations=10,\n",
    "    max_execution_time=10,\n",
    "    handle_parse_errors=True,\n",
    ")\n",
    "\n",
    "result = agent_executor.invoke({\"input\": \"대한민국 단어 길이는 어떻게 되나요?\"})\n",
    "\n",
    "print(result)\n"
   ]
  },
  {
   "cell_type": "code",
   "execution_count": null,
   "metadata": {},
   "outputs": [],
   "source": []
  }
 ],
 "metadata": {
  "kernelspec": {
   "display_name": ".venv",
   "language": "python",
   "name": "python3"
  },
  "language_info": {
   "codemirror_mode": {
    "name": "ipython",
    "version": 3
   },
   "file_extension": ".py",
   "mimetype": "text/x-python",
   "name": "python",
   "nbconvert_exporter": "python",
   "pygments_lexer": "ipython3",
   "version": "3.12.0"
  }
 },
 "nbformat": 4,
 "nbformat_minor": 2
}
