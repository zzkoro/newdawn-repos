{
 "cells": [
  {
   "cell_type": "markdown",
   "metadata": {},
   "source": [
    "## 1. OpenAI 모델 연결하기"
   ]
  },
  {
   "cell_type": "markdown",
   "metadata": {},
   "source": [
    "### 1) 필요한 라이브러리 설치하기"
   ]
  },
  {
   "cell_type": "code",
   "execution_count": null,
   "metadata": {},
   "outputs": [],
   "source": [
    "#!uv add langchain langchain-openai dotenv"
   ]
  },
  {
   "cell_type": "markdown",
   "metadata": {},
   "source": [
    "### 2) 환경변수 읽어오기"
   ]
  },
  {
   "cell_type": "code",
   "execution_count": 2,
   "metadata": {},
   "outputs": [
    {
     "data": {
      "text/plain": [
       "True"
      ]
     },
     "execution_count": 2,
     "metadata": {},
     "output_type": "execute_result"
    }
   ],
   "source": [
    "import dotenv\n",
    "dotenv.load_dotenv(override=True)"
   ]
  },
  {
   "cell_type": "markdown",
   "metadata": {},
   "source": [
    "### 3) ChatOpenAI 모델 연결하기"
   ]
  },
  {
   "cell_type": "code",
   "execution_count": 3,
   "metadata": {},
   "outputs": [
    {
     "name": "stdout",
     "output_type": "stream",
     "text": [
      "[답변]: content='대한민국의 수도는 서울입니다.' additional_kwargs={'refusal': None} response_metadata={'token_usage': {'completion_tokens': 9, 'prompt_tokens': 16, 'total_tokens': 25, 'completion_tokens_details': {'accepted_prediction_tokens': 0, 'audio_tokens': 0, 'reasoning_tokens': 0, 'rejected_prediction_tokens': 0}, 'prompt_tokens_details': {'audio_tokens': 0, 'cached_tokens': 0}}, 'model_name': 'gpt-4o-mini-2024-07-18', 'system_fingerprint': 'fp_f7d56a8a2c', 'id': 'chatcmpl-BOHcBuo1WvOOGFRKM7A1OJPGl6AVd', 'finish_reason': 'stop', 'logprobs': None} id='run-b1478c5e-4b71-4c6b-ae57-0aba87b79c0b-0' usage_metadata={'input_tokens': 16, 'output_tokens': 9, 'total_tokens': 25, 'input_token_details': {'audio': 0, 'cache_read': 0}, 'output_token_details': {'audio': 0, 'reasoning': 0}}\n"
     ]
    }
   ],
   "source": [
    "from langchain_openai import ChatOpenAI\n",
    "\n",
    "llm = ChatOpenAI(\n",
    "    model=\"gpt-4o-mini\",\n",
    "    temperature=0.1,\n",
    ")\n",
    "question = \"대한민국의 수도는 어디인가요?\"\n",
    "\n",
    "print(f\"[답변]: {llm.invoke(question)}\")"
   ]
  },
  {
   "cell_type": "markdown",
   "metadata": {},
   "source": [
    "## 2. Anthropic 모델 연결하기"
   ]
  },
  {
   "cell_type": "markdown",
   "metadata": {},
   "source": [
    "### 1) 필요한 라이브러리 설치하기"
   ]
  },
  {
   "cell_type": "code",
   "execution_count": 4,
   "metadata": {},
   "outputs": [],
   "source": [
    "#!uv add langchain-anthropic"
   ]
  },
  {
   "cell_type": "markdown",
   "metadata": {},
   "source": [
    "### 2) 환경변수 읽어오기"
   ]
  },
  {
   "cell_type": "code",
   "execution_count": 1,
   "metadata": {},
   "outputs": [
    {
     "data": {
      "text/plain": [
       "True"
      ]
     },
     "execution_count": 1,
     "metadata": {},
     "output_type": "execute_result"
    }
   ],
   "source": [
    "import dotenv\n",
    "dotenv.load_dotenv(override=True)"
   ]
  },
  {
   "cell_type": "markdown",
   "metadata": {},
   "source": [
    "### 3) ChatAnthropic"
   ]
  },
  {
   "cell_type": "code",
   "execution_count": 5,
   "metadata": {},
   "outputs": [
    {
     "name": "stdout",
     "output_type": "stream",
     "text": [
      "[답변]: content='대한민국의 수도는 서울입니다.\\n\\n서울은 대한민국의 정치, 경제, 문화의 중심지로, 1394년부터 조선왕조의 수도로 기능해왔습니다. 현재 대한민국의 행정, 입법, 사법부가 모두 서울에 위치해 있으며, 국회, 청와대, 대법원 등 주요 국가기관들이 자리잡고 있습니다.\\n\\n서울은 약 1,000년 이상의 역사를 가진 도시로, 한강을 중심으로 발전해왔습니다. 현재 약 1,000만 명의 인구가 살고 있으며, 대한민국 전체 인구의 약 20%를 차지하고 있습니다. 또한 세계적인 메가시티로 성장하며 대한민국의 정치, 경제, 문화의 중심지 역할을 하고 있습니다.' additional_kwargs={} response_metadata={'id': 'msg_01XZVmpHRjhup9UEZWTcGgHo', 'model': 'claude-3-haiku-20240307', 'stop_reason': 'end_turn', 'stop_sequence': None, 'usage': {'cache_creation_input_tokens': 0, 'cache_read_input_tokens': 0, 'input_tokens': 24, 'output_tokens': 304}, 'model_name': 'claude-3-haiku-20240307'} id='run-1d5277a9-e6bc-4ba8-a92b-0e6d1d4e172f-0' usage_metadata={'input_tokens': 24, 'output_tokens': 304, 'total_tokens': 328, 'input_token_details': {'cache_read': 0, 'cache_creation': 0}}\n"
     ]
    }
   ],
   "source": [
    "from langchain_anthropic import ChatAnthropic\n",
    "\n",
    "llm = ChatAnthropic(\n",
    "    model=\"claude-3-haiku-20240307\",\n",
    "    temperature=0.1,\n",
    ")\n",
    "question = \"대한민국의 수도는 어디인가요?\"\n",
    "\n",
    "print(f\"[답변]: {llm.invoke(question)}\")"
   ]
  },
  {
   "cell_type": "markdown",
   "metadata": {},
   "source": [
    "## 3. Ollama 모델 연결하기"
   ]
  },
  {
   "cell_type": "markdown",
   "metadata": {},
   "source": [
    "### 1) 필요한 라이브러리 설치하기"
   ]
  },
  {
   "cell_type": "code",
   "execution_count": 6,
   "metadata": {},
   "outputs": [],
   "source": [
    "#!uv add langchain-ollama"
   ]
  },
  {
   "cell_type": "markdown",
   "metadata": {},
   "source": [
    "### 2) ChatOllama"
   ]
  },
  {
   "cell_type": "code",
   "execution_count": 7,
   "metadata": {},
   "outputs": [
    {
     "name": "stdout",
     "output_type": "stream",
     "text": [
      "[답변]: content='대한민국의 수도는 **서울**입니다.' additional_kwargs={} response_metadata={'model': 'exaone3.5:latest', 'created_at': '2025-04-20T05:38:57.676979Z', 'done': True, 'done_reason': 'stop', 'total_duration': 19560933750, 'load_duration': 11964716250, 'prompt_eval_count': 42, 'prompt_eval_duration': 7031321167, 'eval_count': 10, 'eval_duration': 559189750, 'message': Message(role='assistant', content='', images=None, tool_calls=None), 'model_name': 'exaone3.5:latest'} id='run-d97338a7-e963-450d-a0bf-e5846a549a6d-0' usage_metadata={'input_tokens': 42, 'output_tokens': 10, 'total_tokens': 52}\n"
     ]
    }
   ],
   "source": [
    "from langchain_ollama.chat_models import ChatOllama\n",
    "\n",
    "llm = ChatOllama(\n",
    "    model=\"exaone3.5:latest\",\n",
    "    temperature=0.1,\n",
    ")\n",
    "question = \"대한민국의 수도는 어디인가요?\"\n",
    "\n",
    "print(f\"[답변]: {llm.invoke(question)}\")"
   ]
  },
  {
   "cell_type": "markdown",
   "metadata": {},
   "source": [
    "## 4. Prompt 이용하기"
   ]
  },
  {
   "cell_type": "markdown",
   "metadata": {},
   "source": [
    "### 1) PromptTemplate"
   ]
  },
  {
   "cell_type": "code",
   "execution_count": 13,
   "metadata": {},
   "outputs": [
    {
     "data": {
      "text/plain": [
       "PromptTemplate(input_variables=['country'], input_types={}, partial_variables={}, template='{country}의 수도는 어디인가요?')"
      ]
     },
     "execution_count": 13,
     "metadata": {},
     "output_type": "execute_result"
    }
   ],
   "source": [
    "from langchain_core.prompts import PromptTemplate\n",
    "\n",
    "template = \"{country}의 수도는 어디인가요?\"\n",
    "\n",
    "prompt = PromptTemplate.from_template(template)\n",
    "prompt"
   ]
  },
  {
   "cell_type": "code",
   "execution_count": 23,
   "metadata": {},
   "outputs": [
    {
     "data": {
      "text/plain": [
       "'대한민국의 수도는 어디인가요?'"
      ]
     },
     "execution_count": 23,
     "metadata": {},
     "output_type": "execute_result"
    }
   ],
   "source": [
    "prompt_str = prompt.format(country=\"대한민국\")\n",
    "prompt_str"
   ]
  },
  {
   "cell_type": "code",
   "execution_count": 18,
   "metadata": {},
   "outputs": [
    {
     "data": {
      "text/plain": [
       "'대한민국의 수도는 **서울**입니다.'"
      ]
     },
     "execution_count": 18,
     "metadata": {},
     "output_type": "execute_result"
    }
   ],
   "source": [
    "chain = prompt | llm\n",
    "ai_message = chain.invoke(\"대한민국\")\n",
    "ai_message.content"
   ]
  },
  {
   "cell_type": "markdown",
   "metadata": {},
   "source": [
    "### 2) ChatPromptTemplate"
   ]
  },
  {
   "cell_type": "code",
   "execution_count": 19,
   "metadata": {},
   "outputs": [
    {
     "data": {
      "text/plain": [
       "ChatPromptTemplate(input_variables=['country'], input_types={}, partial_variables={}, messages=[HumanMessagePromptTemplate(prompt=PromptTemplate(input_variables=['country'], input_types={}, partial_variables={}, template='{country}의 수도는 어디인가요?'), additional_kwargs={})])"
      ]
     },
     "execution_count": 19,
     "metadata": {},
     "output_type": "execute_result"
    }
   ],
   "source": [
    "from langchain_core.prompts import ChatPromptTemplate\n",
    "\n",
    "chat_prompt = ChatPromptTemplate.from_template(\"{country}의 수도는 어디인가요?\")\n",
    "chat_prompt"
   ]
  },
  {
   "cell_type": "code",
   "execution_count": 27,
   "metadata": {},
   "outputs": [
    {
     "data": {
      "text/plain": [
       "'Human: 대한민국의 수도는 어디인가요?'"
      ]
     },
     "execution_count": 27,
     "metadata": {},
     "output_type": "execute_result"
    }
   ],
   "source": [
    "prompt_str = chat_prompt.format(country=\"대한민국\")\n",
    "prompt_str"
   ]
  },
  {
   "cell_type": "code",
   "execution_count": 35,
   "metadata": {},
   "outputs": [
    {
     "name": "stdout",
     "output_type": "stream",
     "text": [
      "input_variables=['country'] input_types={} partial_variables={} messages=[SystemMessagePromptTemplate(prompt=PromptTemplate(input_variables=[], input_types={}, partial_variables={}, template='너는 각 나라의 수도를 알려주는 챗봇이야.'), additional_kwargs={}), HumanMessagePromptTemplate(prompt=PromptTemplate(input_variables=['country'], input_types={}, partial_variables={}, template='{country}의 수도는 어디인가요?'), additional_kwargs={})]\n"
     ]
    },
    {
     "data": {
      "text/plain": [
       "[SystemMessage(content='너는 각 나라의 수도를 알려주는 챗봇이야.', additional_kwargs={}, response_metadata={}),\n",
       " HumanMessage(content='대한민국의 수도는 어디인가요?', additional_kwargs={}, response_metadata={})]"
      ]
     },
     "execution_count": 35,
     "metadata": {},
     "output_type": "execute_result"
    }
   ],
   "source": [
    "from langchain_core.prompts import ChatPromptTemplate\n",
    "from langchain_core.messages import SystemMessage, HumanMessage\n",
    "from langchain_core.prompts import HumanMessagePromptTemplate\n",
    "# chat_template = ChatPromptTemplate.from_messages ([\n",
    "#   SystemMessage(content=\"너는 각 나라의 수도를 알려주는 챗봇이야.\"),\n",
    "#   HumanMessagePromptTemplate.from_template(\"{country}의 수도는 어디인가요?\")\n",
    "# ])\n",
    "\n",
    "chat_template = ChatPromptTemplate.from_messages([\n",
    "  (\"system\", \"너는 각 나라의 수도를 알려주는 챗봇이야.\"),\n",
    "  (\"human\", \"{country}의 수도는 어디인가요?\")\n",
    "])\n",
    "\n",
    "print(chat_template)\n",
    "\n",
    "prompt_str = chat_template.format_messages(country=\"대한민국\")\n",
    "\n",
    "prompt_str"
   ]
  },
  {
   "cell_type": "code",
   "execution_count": 39,
   "metadata": {},
   "outputs": [
    {
     "name": "stdout",
     "output_type": "stream",
     "text": [
      "대한민국의 수도는 서울입니다.\n",
      "대한민국의 수도는 서울입니다.\n"
     ]
    }
   ],
   "source": [
    "chain = chat_template | llm\n",
    "\n",
    "ai_message = chain.invoke({\"country\": \"대한민국\"})\n",
    "print(ai_message.content)\n",
    "\n",
    "ai_message = chain.invoke(prompt_str)\n",
    "print(ai_message.content)"
   ]
  },
  {
   "cell_type": "markdown",
   "metadata": {},
   "source": [
    "### 3) MessagePlaceholder"
   ]
  },
  {
   "cell_type": "code",
   "execution_count": 40,
   "metadata": {},
   "outputs": [
    {
     "name": "stdout",
     "output_type": "stream",
     "text": [
      "현재까지의 대화는 매우 초기 단계로, 특별한 내용이 없었습니다. 따라서 키워드를 지정하기 어렵지만, 다음과 같은 기본적인 요소들을 포함할 수 있습니다:\n",
      "\n",
      "1. **인사**\n",
      "2. **이름** (홍길동)\n",
      "3. **환영**\n",
      "4. **요청** (요약 요청)\n",
      "5. **AI**\n"
     ]
    }
   ],
   "source": [
    "from langchain_core.output_parsers import StrOutputParser\n",
    "from langchain_core.prompts import ChatPromptTemplate, MessagesPlaceholder\n",
    "\n",
    "prompt = ChatPromptTemplate.from_messages([\n",
    "  (\"system\", \"당신은 요약 전문 AI 어시스턴트입니다. 당신의 임무는 주요 키워드로 대화를 요약하는 것입니다.\"),\n",
    "  MessagesPlaceholder(variable_name=\"conversation_history\"),\n",
    "  (\"human\", \"지금까지의 대화를 {word_count}개의 키워드로 요약해줘 \")\n",
    "])\n",
    "\n",
    "chain = prompt | llm | StrOutputParser()\n",
    "\n",
    "ai_message = chain.invoke(\n",
    "  {\"conversation_history\": [\n",
    "    (\n",
    "      \"human\",\n",
    "      \"안녕하세요. 저의 이름은 홍길동입니다.\"\n",
    "    ),\n",
    "    (\n",
    "      \"ai\",\n",
    "      \"안녕하세요. 잘 부탁드리겠습니다.\"\n",
    "    )\n",
    "  ],\n",
    "  \"word_count\": 5\n",
    "  }\n",
    ")\n",
    "\n",
    "print(ai_message)\n"
   ]
  },
  {
   "cell_type": "markdown",
   "metadata": {},
   "source": [
    "## 5. 출력 파서(OuputParser) 이용하기"
   ]
  },
  {
   "cell_type": "markdown",
   "metadata": {},
   "source": [
    "### 1) Pydantic 출력 파서"
   ]
  },
  {
   "cell_type": "code",
   "execution_count": 41,
   "metadata": {},
   "outputs": [],
   "source": [
    "email_content = \"\"\"From: 김철수 (chulsoo.kim@bikecorporation.me)\n",
    "To: 이은채 (eunchae@teddyinternational.me)\n",
    "Subject: \"ZENESIS\" 자전거 유통 협력 및 미팅 일정 제안\n",
    "\n",
    "안녕하세요, 이은채 대리님,\n",
    "\n",
    "저는 바이크코퍼레이션의 김철수 상무입니다. 최근 보도자료를 통해 귀사의 신규 자전거 \"ZENESIS\"에 대해 알게 되었습니다. 바이크코퍼레이션은 자전거 제조 및 유통 분야에서 혁신과 품질을 선도하는 기업으로, 이 분야에서의 장기적인 경험과 전문성을 가지고 있습니다.\n",
    "\n",
    "ZENESIS 모델에 대한 상세한 브로슈어를 요청드립니다. 특히 기술 사양, 배터리 성능, 그리고 디자인 측면에 대한 정보가 필요합니다. 이를 통해 저희가 제안할 유통 전략과 마케팅 계획을 보다 구체화할 수 있을 것입니다.\n",
    "\n",
    "또한, 협력 가능성을 더 깊이 논의하기 위해 다음 주 화요일(1월 15일) 오전 10시에 미팅을 제안합니다. 귀사 사무실에서 만나 이야기를 나눌 수 있을까요?\n",
    "\n",
    "감사합니다.\n",
    "\n",
    "김철수\n",
    "상무이사\n",
    "바이크코퍼레이션\n",
    "\"\"\""
   ]
  },
  {
   "cell_type": "code",
   "execution_count": 47,
   "metadata": {},
   "outputs": [
    {
     "name": "stdout",
     "output_type": "stream",
     "text": [
      "input_variables=['email_content', 'question'] input_types={} partial_variables={'format': 'The output should be formatted as a JSON instance that conforms to the JSON schema below.\\n\\nAs an example, for the schema {\"properties\": {\"foo\": {\"title\": \"Foo\", \"description\": \"a list of strings\", \"type\": \"array\", \"items\": {\"type\": \"string\"}}}, \"required\": [\"foo\"]}\\nthe object {\"foo\": [\"bar\", \"baz\"]} is a well-formatted instance of the schema. The object {\"properties\": {\"foo\": [\"bar\", \"baz\"]}} is not well-formatted.\\n\\nHere is the output schema:\\n```\\n{\"properties\": {\"person\": {\"description\": \"이메일 주소의 주인의 이름\", \"title\": \"Person\", \"type\": \"string\"}, \"email\": {\"description\": \"이메일 주소\", \"title\": \"Email\", \"type\": \"string\"}, \"subject\": {\"description\": \"이메일의 제목\", \"title\": \"Subject\", \"type\": \"string\"}, \"summary\": {\"description\": \"이메일 내용의 요약\", \"title\": \"Summary\", \"type\": \"string\"}, \"date\": {\"description\": \"이메일 내용에 있는 날짜\", \"title\": \"Date\", \"type\": \"string\"}}, \"required\": [\"person\", \"email\", \"subject\", \"summary\", \"date\"]}\\n```'} template='\\nYou are a helpful assistant. Please answer the following questions in KOREAN.\\n\\nQUESTION:\\n{question}\\n\\nEMAIL CONVERSATION:\\n{email_content}\\n\\nFORMAT:\\n{format}\\n'\n",
      "person='김철수' email='chulsoo.kim@bikecorporation.me' subject='\"ZENESIS\" 자전거 유통 협력 및 미팅 일정 제안' summary=\"김철수 상무가 이은채 대리님에게 바이크코퍼레이션의 자전거 'ZENESIS'에 대한 브로슈어 요청과 함께 협력 가능성을 논의하기 위한 미팅을 제안하는 이메일입니다.\" date='1월 15일'\n"
     ]
    }
   ],
   "source": [
    "from langchain_core.output_parsers import PydanticOutputParser\n",
    "from pydantic import BaseModel, Field\n",
    "\n",
    "class EmailSummary(BaseModel):\n",
    "  person: str = Field(description=\"이메일 주소의 주인의 이름\")\n",
    "  email: str = Field(description=\"이메일 주소\")\n",
    "  subject: str = Field(description=\"이메일의 제목\")\n",
    "  summary: str = Field(description=\"이메일 내용의 요약\")\n",
    "  date: str = Field(description=\"이메일 내용에 있는 날짜\")\n",
    "  \n",
    "  \n",
    "parser = PydanticOutputParser(pydantic_object=EmailSummary)\n",
    "\n",
    "prompt = PromptTemplate.from_template(\n",
    "    \"\"\"\n",
    "You are a helpful assistant. Please answer the following questions in KOREAN.\n",
    "\n",
    "QUESTION:\n",
    "{question}\n",
    "\n",
    "EMAIL CONVERSATION:\n",
    "{email_content}\n",
    "\n",
    "FORMAT:\n",
    "{format}\n",
    "\"\"\"\n",
    ")\n",
    "prompt = prompt.partial(format=parser.get_format_instructions())\n",
    "\n",
    "print(prompt)\n",
    "\n",
    "chain = prompt | llm | parser\n",
    "\n",
    "ai_message = chain.invoke({\"question\": \"이메일 내용을 요약해줘\", \"email_content\": email_content})\n",
    "\n",
    "print(ai_message)\n",
    "\n",
    "\n"
   ]
  },
  {
   "cell_type": "code",
   "execution_count": 48,
   "metadata": {},
   "outputs": [
    {
     "name": "stdout",
     "output_type": "stream",
     "text": [
      "person='김철수' email='chulsoo.kim@bikecorporation.me' subject='ZENESIS 자전거 유통 협력 및 미팅 일정 제안' summary=\"김철수 상무가 이은채 대리에게 'ZENESIS' 자전거에 대한 브로슈어 요청과 협력 논의를 위한 미팅 제안을 보냈습니다. 미팅은 1월 15일 화요일 오전 10시에 귀사 사무실에서 진행하고자 합니다.\" date='2024-01-08'\n"
     ]
    }
   ],
   "source": [
    "llm_with_structured_output = llm.with_structured_output(EmailSummary)\n",
    "\n",
    "ai_message = llm_with_structured_output.invoke(email_content)\n",
    "\n",
    "print(ai_message)\n",
    "\n"
   ]
  },
  {
   "cell_type": "markdown",
   "metadata": {},
   "source": [
    "### 2) CommaSeparatedListOutputParser"
   ]
  },
  {
   "cell_type": "code",
   "execution_count": 49,
   "metadata": {},
   "outputs": [
    {
     "name": "stdout",
     "output_type": "stream",
     "text": [
      "['경복궁', '남산타워', '제주도', '부산 해운대', '경주 불국사', '전주 한옥마을', 'DMZ', '설악산', '인사동', '광화문']\n"
     ]
    }
   ],
   "source": [
    "from langchain_core.output_parsers import CommaSeparatedListOutputParser\n",
    "\n",
    "parser = CommaSeparatedListOutputParser()\n",
    "\n",
    "format_instructions = parser.get_format_instructions()\n",
    "\n",
    "prompt = PromptTemplate.from_template(\"\"\"\n",
    "You are a helpful assistant. Please answer the following questions in KOREAN.\n",
    "\n",
    "QUESTION:\n",
    "{question}\n",
    "\n",
    "FORMAT:\n",
    "{format}\n",
    "\"\"\"\n",
    ")\n",
    "prompt = prompt.partial(format=format_instructions)\n",
    "\n",
    "chain = prompt | llm | parser\n",
    "\n",
    "ai_message = chain.invoke({\"question\": \"대한민국 관광명소 10곳을 알려줘\"})\n",
    "\n",
    "print(ai_message)\n",
    "\n"
   ]
  },
  {
   "cell_type": "markdown",
   "metadata": {},
   "source": [
    "## 6. Cache 이용하기\n",
    "LangChain은 LLM을 위한 선택적 캐싱 레이어를 제공합니다.\n",
    "\n",
    "이는 두 가지 이유로 유용합니다.\n",
    "\n",
    "- 동일한 완료를 여러 번 요청하는 경우 LLM 공급자에 대한 API 호출 횟수를 줄여 비용을 절감할 수 있습니다.\n",
    "- LLM 제공업체에 대한 API 호출 횟수를 줄여 애플리케이션의 속도를 높일 수 있습니다."
   ]
  },
  {
   "cell_type": "markdown",
   "metadata": {},
   "source": [
    "### 1) InMemoryCache"
   ]
  },
  {
   "cell_type": "code",
   "execution_count": 50,
   "metadata": {},
   "outputs": [
    {
     "name": "stdout",
     "output_type": "stream",
     "text": [
      "CPU times: user 603 ms, sys: 130 ms, total: 733 ms\n",
      "Wall time: 3.83 s\n"
     ]
    },
    {
     "data": {
      "text/plain": [
       "AIMessage(content='대한민국은 동아시아에 위치한 국가로, 한반도의 남부에 자리잡고 있습니다. 서울이 수도이며, 경제, 문화, 기술 분야에서 세계적으로 영향력 있는 국가입니다. 한국 전쟁 이후 급속한 산업화와 민주화를 이루었으며, K-팝, 드라마 등으로 글로벌 문화의 중심지로 떠오르고 있습니다. 교육 수준이 높고, IT 기술이 발달해 있으며, 전통과 현대가 조화를 이루는 사회입니다.', additional_kwargs={'refusal': None}, response_metadata={'token_usage': {'completion_tokens': 106, 'prompt_tokens': 21, 'total_tokens': 127, 'completion_tokens_details': {'accepted_prediction_tokens': 0, 'audio_tokens': 0, 'reasoning_tokens': 0, 'rejected_prediction_tokens': 0}, 'prompt_tokens_details': {'audio_tokens': 0, 'cached_tokens': 0}}, 'model_name': 'gpt-4o-mini-2024-07-18', 'system_fingerprint': 'fp_dbaca60df0', 'id': 'chatcmpl-BOJsqUi0yHE0Bd4A1osxQUFgGCTgi', 'finish_reason': 'stop', 'logprobs': None}, id='run-cd1e5687-398e-4cc9-ba4f-2a274eb1eb70-0', usage_metadata={'input_tokens': 21, 'output_tokens': 106, 'total_tokens': 127, 'input_token_details': {'audio': 0, 'cache_read': 0}, 'output_token_details': {'audio': 0, 'reasoning': 0}})"
      ]
     },
     "execution_count": 50,
     "metadata": {},
     "output_type": "execute_result"
    }
   ],
   "source": [
    "%%time\n",
    "from langchain.cache import InMemoryCache\n",
    "from langchain.globals import set_llm_cache\n",
    "\n",
    "\n",
    "# 프롬프트를 생성합니다.\n",
    "prompt = PromptTemplate.from_template(\"{country} 에 대해서 200자 내외로 요약해줘\")\n",
    "\n",
    "# 캐시를 생성합니다.\n",
    "cache = InMemoryCache()\n",
    "\n",
    "set_llm_cache(cache)\n",
    "\n",
    "llm = ChatOpenAI(\n",
    "    model=\"gpt-4o-mini\",\n",
    "    temperature=0.1,\n",
    ")\n",
    "\n",
    "# 캐시를 사용하여 프롬프트를 실행합니다.\n",
    "chain = prompt | llm \n",
    "\n",
    "chain.invoke(\"대한민국\")"
   ]
  },
  {
   "cell_type": "code",
   "execution_count": 51,
   "metadata": {},
   "outputs": [
    {
     "name": "stdout",
     "output_type": "stream",
     "text": [
      "CPU times: user 949 μs, sys: 1.52 ms, total: 2.47 ms\n",
      "Wall time: 2.97 ms\n"
     ]
    },
    {
     "data": {
      "text/plain": [
       "AIMessage(content='대한민국은 동아시아에 위치한 국가로, 한반도의 남부에 자리잡고 있습니다. 서울이 수도이며, 경제, 문화, 기술 분야에서 세계적으로 영향력 있는 국가입니다. 한국 전쟁 이후 급속한 산업화와 민주화를 이루었으며, K-팝, 드라마 등으로 글로벌 문화의 중심지로 떠오르고 있습니다. 교육 수준이 높고, IT 기술이 발달해 있으며, 전통과 현대가 조화를 이루는 사회입니다.', additional_kwargs={'refusal': None}, response_metadata={'token_usage': {'completion_tokens': 106, 'prompt_tokens': 21, 'total_tokens': 127, 'completion_tokens_details': {'accepted_prediction_tokens': 0, 'audio_tokens': 0, 'reasoning_tokens': 0, 'rejected_prediction_tokens': 0}, 'prompt_tokens_details': {'audio_tokens': 0, 'cached_tokens': 0}}, 'model_name': 'gpt-4o-mini-2024-07-18', 'system_fingerprint': 'fp_dbaca60df0', 'id': 'chatcmpl-BOJsqUi0yHE0Bd4A1osxQUFgGCTgi', 'finish_reason': 'stop', 'logprobs': None}, id='run-cd1e5687-398e-4cc9-ba4f-2a274eb1eb70-0', usage_metadata={'input_tokens': 21, 'output_tokens': 106, 'total_tokens': 127, 'input_token_details': {'audio': 0, 'cache_read': 0}, 'output_token_details': {'audio': 0, 'reasoning': 0}})"
      ]
     },
     "execution_count": 51,
     "metadata": {},
     "output_type": "execute_result"
    }
   ],
   "source": [
    "%%time\n",
    "chain.invoke(\"대한민국\")"
   ]
  },
  {
   "cell_type": "code",
   "execution_count": 52,
   "metadata": {},
   "outputs": [
    {
     "name": "stdout",
     "output_type": "stream",
     "text": [
      "CPU times: user 5.22 ms, sys: 13.3 ms, total: 18.5 ms\n",
      "Wall time: 1.98 s\n"
     ]
    },
    {
     "data": {
      "text/plain": [
       "AIMessage(content='미국은 북아메리카에 위치한 연방 국가로, 50개 주와 수도 워싱턴 D.C.로 구성되어 있습니다. 세계에서 가장 큰 경제 대국 중 하나이며, 다양한 문화와 인종이 공존하는 다민족 사회입니다. 민주주의와 개인의 자유를 중시하며, 과학, 기술, 예술 등 여러 분야에서 글로벌 리더십을 발휘하고 있습니다. 역사적으로는 독립 전쟁, 남북 전쟁, 시민권 운동 등 중요한 사건들이 있었습니다.', additional_kwargs={'refusal': None}, response_metadata={'token_usage': {'completion_tokens': 115, 'prompt_tokens': 21, 'total_tokens': 136, 'completion_tokens_details': {'accepted_prediction_tokens': 0, 'audio_tokens': 0, 'reasoning_tokens': 0, 'rejected_prediction_tokens': 0}, 'prompt_tokens_details': {'audio_tokens': 0, 'cached_tokens': 0}}, 'model_name': 'gpt-4o-mini-2024-07-18', 'system_fingerprint': 'fp_0392822090', 'id': 'chatcmpl-BOJtQUEEBSLkJj2BQWbBVcO0JuVLc', 'finish_reason': 'stop', 'logprobs': None}, id='run-697a3cc6-c26a-4bf3-b178-11e3b4b45f7b-0', usage_metadata={'input_tokens': 21, 'output_tokens': 115, 'total_tokens': 136, 'input_token_details': {'audio': 0, 'cache_read': 0}, 'output_token_details': {'audio': 0, 'reasoning': 0}})"
      ]
     },
     "execution_count": 52,
     "metadata": {},
     "output_type": "execute_result"
    }
   ],
   "source": [
    "%%time\n",
    "chain.invoke(\"미국\")"
   ]
  },
  {
   "cell_type": "code",
   "execution_count": 53,
   "metadata": {},
   "outputs": [
    {
     "name": "stdout",
     "output_type": "stream",
     "text": [
      "CPU times: user 1.2 ms, sys: 4.76 ms, total: 5.96 ms\n",
      "Wall time: 35.1 ms\n"
     ]
    },
    {
     "data": {
      "text/plain": [
       "AIMessage(content='미국은 북아메리카에 위치한 연방 국가로, 50개 주와 수도 워싱턴 D.C.로 구성되어 있습니다. 세계에서 가장 큰 경제 대국 중 하나이며, 다양한 문화와 인종이 공존하는 다민족 사회입니다. 민주주의와 개인의 자유를 중시하며, 과학, 기술, 예술 등 여러 분야에서 글로벌 리더십을 발휘하고 있습니다. 역사적으로는 독립 전쟁, 남북 전쟁, 시민권 운동 등 중요한 사건들이 있었습니다.', additional_kwargs={'refusal': None}, response_metadata={'token_usage': {'completion_tokens': 115, 'prompt_tokens': 21, 'total_tokens': 136, 'completion_tokens_details': {'accepted_prediction_tokens': 0, 'audio_tokens': 0, 'reasoning_tokens': 0, 'rejected_prediction_tokens': 0}, 'prompt_tokens_details': {'audio_tokens': 0, 'cached_tokens': 0}}, 'model_name': 'gpt-4o-mini-2024-07-18', 'system_fingerprint': 'fp_0392822090', 'id': 'chatcmpl-BOJtQUEEBSLkJj2BQWbBVcO0JuVLc', 'finish_reason': 'stop', 'logprobs': None}, id='run-697a3cc6-c26a-4bf3-b178-11e3b4b45f7b-0', usage_metadata={'input_tokens': 21, 'output_tokens': 115, 'total_tokens': 136, 'input_token_details': {'audio': 0, 'cache_read': 0}, 'output_token_details': {'audio': 0, 'reasoning': 0}})"
      ]
     },
     "execution_count": 53,
     "metadata": {},
     "output_type": "execute_result"
    }
   ],
   "source": [
    "%%time\n",
    "chain.invoke(\"미국\")"
   ]
  },
  {
   "cell_type": "markdown",
   "metadata": {},
   "source": [
    "## 7. Memory 이용하기"
   ]
  },
  {
   "cell_type": "markdown",
   "metadata": {},
   "source": [
    "### 1) ConversationChain"
   ]
  },
  {
   "cell_type": "code",
   "execution_count": 57,
   "metadata": {},
   "outputs": [
    {
     "name": "stdout",
     "output_type": "stream",
     "text": [
      "\n",
      "\n",
      "\u001b[1m> Entering new ConversationChain chain...\u001b[0m\n",
      "Prompt after formatting:\n",
      "\u001b[32;1m\u001b[1;3m\n",
      "다음은 지금까지의 대화 이력입니다.:\n",
      "\n",
      "\n",
      "사용자가 한 말:\n",
      "안녕하세요.\n",
      "\n",
      "이에 대한 답변을 친절하게 작성해주세요.\n",
      "\u001b[0m\n",
      "\n",
      "\u001b[1m> Finished chain.\u001b[0m\n",
      "{'input': '안녕하세요.', 'conversation_history': '', 'response': '안녕하세요! 어떻게 도와드릴까요? 궁금한 점이나 필요한 정보가 있다면 말씀해 주세요.'}\n"
     ]
    }
   ],
   "source": [
    "from langchain import PromptTemplate\n",
    "from langchain.memory import ConversationBufferMemory\n",
    "from langchain.chains import ConversationChain\n",
    "template = \"\"\"\n",
    "다음은 지금까지의 대화 이력입니다.:\n",
    "{conversation_history}\n",
    "\n",
    "사용자가 한 말:\n",
    "{input}\n",
    "\n",
    "이에 대한 답변을 친절하게 작성해주세요.\n",
    "\"\"\"\n",
    "prompt = PromptTemplate(\n",
    "  template=template,\n",
    "  input_variables=[\"conversation_history\", \"input\"]\n",
    ")\n",
    "\n",
    "memory = ConversationBufferMemory(memory_key=\"conversation_history\")\n",
    "\n",
    "llm = ChatOpenAI(\n",
    "    model=\"gpt-4o-mini\",\n",
    "    temperature=0.1,\n",
    ")\n",
    "\n",
    "chain = ConversationChain(\n",
    "  llm=llm,\n",
    "  memory=memory,\n",
    "  prompt=prompt,\n",
    "  verbose=True\n",
    ")\n",
    "\n",
    "# chain = memory |prompt | llm \n",
    "\n",
    "response = chain.invoke({\"input\": \"안녕하세요.\"})\n",
    "\n",
    "print(response)\n",
    "\n",
    "# chain.invoke({\"input\": \"대한민국의 수도는 어디인가요?\"})\n",
    "\n",
    "# chain.invoke({\"input\": \"미국의 수도는 어디인가요?\"})\n",
    "\n"
   ]
  },
  {
   "cell_type": "code",
   "execution_count": 58,
   "metadata": {},
   "outputs": [
    {
     "name": "stdout",
     "output_type": "stream",
     "text": [
      "\n",
      "\n",
      "\u001b[1m> Entering new ConversationChain chain...\u001b[0m\n",
      "Prompt after formatting:\n",
      "\u001b[32;1m\u001b[1;3m\n",
      "다음은 지금까지의 대화 이력입니다.:\n",
      "Human: 안녕하세요.\n",
      "AI: 안녕하세요! 어떻게 도와드릴까요? 궁금한 점이나 필요한 정보가 있다면 말씀해 주세요.\n",
      "\n",
      "사용자가 한 말:\n",
      "대한민국의 수도는 어디인가요?\n",
      "\n",
      "이에 대한 답변을 친절하게 작성해주세요.\n",
      "\u001b[0m\n",
      "\n",
      "\u001b[1m> Finished chain.\u001b[0m\n",
      "{'input': '대한민국의 수도는 어디인가요?', 'conversation_history': 'Human: 안녕하세요.\\nAI: 안녕하세요! 어떻게 도와드릴까요? 궁금한 점이나 필요한 정보가 있다면 말씀해 주세요.', 'response': '대한민국의 수도는 서울입니다. 서울은 정치, 경제, 문화의 중심지로, 다양한 역사적 유적지와 현대적인 시설이 어우러져 있는 도시입니다. 더 궁금한 점이 있으시면 언제든지 말씀해 주세요!'}\n"
     ]
    }
   ],
   "source": [
    "response = chain.invoke({\"input\": \"대한민국의 수도는 어디인가요?\"})\n",
    "\n",
    "print(response)"
   ]
  },
  {
   "cell_type": "code",
   "execution_count": null,
   "metadata": {},
   "outputs": [],
   "source": []
  }
 ],
 "metadata": {
  "kernelspec": {
   "display_name": ".venv",
   "language": "python",
   "name": "python3"
  },
  "language_info": {
   "codemirror_mode": {
    "name": "ipython",
    "version": 3
   },
   "file_extension": ".py",
   "mimetype": "text/x-python",
   "name": "python",
   "nbconvert_exporter": "python",
   "pygments_lexer": "ipython3",
   "version": "3.12.8"
  }
 },
 "nbformat": 4,
 "nbformat_minor": 2
}
